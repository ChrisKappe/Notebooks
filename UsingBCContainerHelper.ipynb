{
    "metadata": {
        "kernelspec": {
            "name": "powershell",
            "display_name": "PowerShell"
        },
        "language_info": {
            "name": "powershell",
            "codemirror_mode": "shell",
            "mimetype": "text/x-sh",
            "file_extension": ".ps1"
        }
    },
    "nbformat_minor": 2,
    "nbformat": 4,
    "cells": [
        {
            "cell_type": "markdown",
            "source": [
                "# Standard operations on Business Central Container \r\n",
                "**Never run all cells in this notebook at once**"
            ],
            "metadata": {
                "azdata_cell_guid": "10ca09db-9d7a-4fbe-83a3-a352dea1c861"
            }
        },
        {
            "cell_type": "markdown",
            "source": [
                "## **Disclaimer** \r\n",
                "You should know what you are doing runing the PowerShell commands. The purpose of the notebook is  only to have all common commands in one place. You are using them at your own risk. Make sure that you can run the **PowerShell** commands on your machine."
            ],
            "metadata": {
                "azdata_cell_guid": "a7798f03-8bbe-4d2a-8d55-95e588d2ce9b"
            }
        },
        {
            "cell_type": "markdown",
            "source": [
                "## **1. Install BCContainerHelper module**\r\n",
                "**BCContainerHelper** is PowerShell module which help to manager Docker containers for Business Central. Formerly module was known as **NAVContainerHelper**. It was design by Freddy Kristiansen from Microsoft. \r\n",
                "\r\n",
                "[GitHub link to the project](https://github.com/microsoft/navcontainerhelper)\r\n",
                "\r\n",
                "[Freddy's blog](https://freddysblog.com/)\r\n",
                "\r\n",
                "### **Note:** To install module and other operations you may need administator rights"
            ],
            "metadata": {
                "azdata_cell_guid": "3d11e5db-5d9e-49b8-9bdf-12c8a53a5bdc"
            }
        },
        {
            "cell_type": "code",
            "source": [
                "Install-Module BcContainerHelper -force\r\n",
                "Import-Module BCContainerHelper "
            ],
            "metadata": {
                "azdata_cell_guid": "0d856956-51db-432f-921a-e2a327f8c607",
                "tags": []
            },
            "outputs": [],
            "execution_count": null
        },
        {
            "cell_type": "code",
            "source": [
                "Get-InstalledModule BCContainerHelper"
            ],
            "metadata": {
                "azdata_cell_guid": "148bb15d-43d7-4e54-83f9-fda753dce44e"
            },
            "outputs": [],
            "execution_count": null
        },
        {
            "cell_type": "markdown",
            "source": [
                "**Note** If you install the BCContainerHelper it maybe needed to restart Azure Data Studio. \r\n",
                "\r\n",
                "**Note** It take a while to install the module. You need to do it only once but it is good to always have the newest version of the module\r\n",
                ""
            ],
            "metadata": {
                "azdata_cell_guid": "68b4e6c2-2f6b-4ab9-a855-a4d6eda90fb7"
            }
        },
        {
            "cell_type": "markdown",
            "source": [
                "## **2. Parameters**\r\n",
                "\r\n",
                "For the operations listed below in this notebook there are needed some parameters. \r\n",
                "\r\n",
                "**Before running the operations please first set parameters and run the code** \r\n",
                "\r\n",
                "***containerName*** - specifies on which container operation will be executed.\r\n",
                "\r\n",
                "***countryVersion*** - specifies which localization will be installed. Examples: ***us*** or ***dk***.\r\n",
                "\r\n",
                "***sasToken*** - specifies the token from [Ready To Go](https://docs.microsoft.com/en-us/dynamics365/business-central/dev-itpro/developer/readiness/readiness-ready-to-go?tabs=learning) program. It is needed to get insider builds for Business Central.\r\n",
                "\r\n",
                "***licenseFile*** - specifies the path to license file. It is needed if Test ToolKit should be used or the custom development will be done whch requires special range of objects."
            ],
            "metadata": {
                "azdata_cell_guid": "17b654b6-37e3-4030-96de-9198a1103015"
            }
        },
        {
            "cell_type": "code",
            "source": [
                "$containerName = 'bcsandbox'\r\n",
                "$countryVersion = 'us'\r\n",
                "$sasToken = ''\r\n",
                "$licenseFile = ''"
            ],
            "metadata": {
                "azdata_cell_guid": "18a7d150-283f-431d-8fed-6a2be285e51c",
                "tags": []
            },
            "outputs": [],
            "execution_count": null
        },
        {
            "cell_type": "markdown",
            "source": [
                "## **3. Create New Container**\r\n",
                "\r\n",
                "In notebook there are few examples how to create a container. It depends of the version which is needed and also if it is needed to use https\r\n",
                "\r\n",
                "**Note** Creating a container can take a while since the artifacts need to downloaded first\r\n",
                "\r\n",
                "**Note** When creating the container the system will ask you for the **user and password**. Those credencial does not need to be the same as Windows credencial. **They are used later to login to Business Central** so remember them.\r\n",
                "\r\n",
                "### **3.1. Current Sandbox without TestToolKit and without custom license**"
            ],
            "metadata": {
                "azdata_cell_guid": "37594e51-b9b7-4b83-b6f8-a6524bbb49a9"
            }
        },
        {
            "cell_type": "code",
            "source": [
                "$accept_eula = $true\r\n",
                "$credential = get-credential -UserName $env:USERNAME -Message \"Using Windows Authentication. Please enter your Windows credentials.\"\r\n",
                "New-NavContainer -accept_eula:$accept_eula `\r\n",
                "-containername $containerName `\r\n",
                "-auth NavUserPassword  `\r\n",
                "-Credential $credential `\r\n",
                "-alwaysPull `\r\n",
                "-doNotExportObjectsToText `\r\n",
                "-usessl:$false `\r\n",
                "-updateHosts `\r\n",
                "-artifactUrl (Get-BCArtifactUrl -type Sandbox -country $countryVersion -select Latest)`\r\n",
                "-assignPremiumPlan "
            ],
            "metadata": {
                "azdata_cell_guid": "a09f787b-152e-4223-8d58-8e102abf7b18",
                "tags": [
                    "hide_input"
                ]
            },
            "outputs": [],
            "execution_count": null
        },
        {
            "cell_type": "markdown",
            "source": [
                "### **3.2. Current Sandbox with TestToolKit (only libraries) and with custom license**\r\n",
                "**Note** fot this you need to have ***$licenseFile*** parameter filled in.\r\n",
                "\r\n",
                "**TestToolKit** is needed to prepare automated tests in Business Central. Running below code only libraries for automated tests will be installed it means that standard Business Central automated tests will not be included."
            ],
            "metadata": {
                "azdata_cell_guid": "8af7f27c-4934-4ae7-a0a1-927ea974b621"
            }
        },
        {
            "cell_type": "code",
            "source": [
                "$accept_eula = $true\r\n",
                "$credential = get-credential -UserName $env:USERNAME -Message \"Please enter your credentials.\"\r\n",
                "New-NavContainer -accept_eula:$accept_eula `\r\n",
                "-containername $containerName `\r\n",
                "-auth NavUserPassword  `\r\n",
                "-Credential $credential `\r\n",
                "-alwaysPull `\r\n",
                "-doNotExportObjectsToText `\r\n",
                "-usessl:$false `\r\n",
                "-updateHosts `\r\n",
                "-artifactUrl (Get-BCArtifactUrl -type Sandbox -country $countryVersion -select Latest)`\r\n",
                "-assignPremiumPlan `\r\n",
                "-includeTestToolkit `\r\n",
                "-licenseFile $licenseFile `\r\n",
                "-includeTestLibrariesOnly"
            ],
            "metadata": {
                "azdata_cell_guid": "fe16256c-02d7-4bbb-9c85-fca88e529f1c",
                "tags": [
                    "hide_input"
                ]
            },
            "outputs": [],
            "execution_count": null
        },
        {
            "cell_type": "markdown",
            "source": [
                "### **3.3. Insider Build Sandbox with TestToolKit (only libraries) and with custom license**\r\n",
                "**Note** fot this you need to have ***$licenseFile*** and ***$sasToken*** parameters filled in.\r\n",
                "\r\n",
                "**TestToolKit** is needed to prepare automated tests in Business Central. Running below code only libraries for automated tests will be installed it means that standard Business Central automated tests will not be included."
            ],
            "metadata": {
                "azdata_cell_guid": "34415bc6-0306-4815-b29a-3f1805d6e5cf"
            }
        },
        {
            "cell_type": "code",
            "source": [
                "$accept_eula = $true\r\n",
                "$containername = $containerName\r\n",
                "$credential = get-credential -UserName $env:USERNAME -Message \"Please enter your credentials.\"\r\n",
                "New-NavContainer -accept_eula:$accept_eula `\r\n",
                "-containername $containername `\r\n",
                "-auth NavUserPassword  `\r\n",
                "-Credential $credential `\r\n",
                "-alwaysPull `\r\n",
                "-doNotExportObjectsToText `\r\n",
                "-usessl:$false `\r\n",
                "-updateHosts `\r\n",
                "-artifactUrl (Get-BCArtifactUrl -type Sandbox -country $countryVersion -storageAccount bcinsider -select Latest  -sasToken $sasToken)`\r\n",
                "-assignPremiumPlan `\r\n",
                "-includeTestToolkit `\r\n",
                "-licenseFile $licenseFile `\r\n",
                "-includeTestLibrariesOnly"
            ],
            "metadata": {
                "azdata_cell_guid": "125af5bc-af1e-4cdb-abbd-7d4499be0ed4",
                "tags": [
                    "hide_input"
                ]
            },
            "outputs": [],
            "execution_count": null
        },
        {
            "cell_type": "markdown",
            "source": [
                "### **3.4. Current On-Prem without TestToolKit and without custom license**"
            ],
            "metadata": {
                "azdata_cell_guid": "a4e5673d-9223-4aef-902b-0611fc603c4e"
            }
        },
        {
            "cell_type": "code",
            "source": [
                "$accept_eula = $true\r\n",
                "$credential = get-credential -UserName $env:USERNAME -Message \"Please enter your credentials.\"\r\n",
                "New-NavContainer -accept_eula:$accept_eula `\r\n",
                "-containername $containerName `\r\n",
                "-auth NavUserPassword  `\r\n",
                "-Credential $credential `\r\n",
                "-alwaysPull `\r\n",
                "-doNotExportObjectsToText `\r\n",
                "-usessl:$false `\r\n",
                "-updateHosts `\r\n",
                "-artifactUrl (Get-BCArtifactUrl -type OnPrem -country $countryVersion -select Latest)`\r\n",
                "-assignPremiumPlan "
            ],
            "metadata": {
                "azdata_cell_guid": "31d8d8e1-2604-4c2d-b102-a925ef511b9f",
                "tags": [
                    "hide_input"
                ]
            },
            "outputs": [],
            "execution_count": null
        },
        {
            "cell_type": "markdown",
            "source": [
                "### **3.5. Current On-Prem without TestToolKit (only libraries) and without custom license**\r\n",
                "**Note** fot this you need to have ***$licenseFile*** parameter filled in.\r\n",
                "\r\n",
                "**TestToolKit** is needed to prepare automated tests in Business Central. Running below code only libraries for automated tests will be installed it means that standard Business Central automated tests will not be included."
            ],
            "metadata": {
                "azdata_cell_guid": "a93fd431-9ae0-43f4-b8c4-2a9d7f7149de"
            }
        },
        {
            "cell_type": "code",
            "source": [
                "$accept_eula = $true\r\n",
                "$credential = get-credential -UserName $env:USERNAME -Message \"Please enter your credentials.\"\r\n",
                "New-NavContainer -accept_eula:$accept_eula `\r\n",
                "-containername $containerName `\r\n",
                "-auth NavUserPassword  `\r\n",
                "-Credential $credential `\r\n",
                "-alwaysPull `\r\n",
                "-doNotExportObjectsToText `\r\n",
                "-usessl:$false `\r\n",
                "-updateHosts `\r\n",
                "-artifactUrl (Get-BCArtifactUrl -type OnPrem -country $countryVersion -select Latest)`\r\n",
                "-assignPremiumPlan `\r\n",
                "-includeTestToolkit `\r\n",
                "-licenseFile $licenseFile `\r\n",
                "-includeTestLibrariesOnly"
            ],
            "metadata": {
                "azdata_cell_guid": "19f67c89-6f10-4835-9a3c-4d9331dd3657",
                "tags": [
                    "hide_input"
                ]
            },
            "outputs": [],
            "execution_count": null
        },
        {
            "cell_type": "markdown",
            "source": [
                "### **3.6 Custom new container based on guide**\r\n",
                "It is possible to use the guide to create Docker container. It is useful if there is needed more complex container than presented above.\r\n",
                "\r\n",
                "**Note** guide will be open in new PowerShell window. It maybe needed to click first mouse (and the Enter) to see the openning screen"
            ],
            "metadata": {
                "azdata_cell_guid": "d9b8cb7f-fe44-435c-aa6f-7c10a84c5504"
            }
        },
        {
            "cell_type": "code",
            "source": [
                "New-BcContainerWizard"
            ],
            "metadata": {
                "azdata_cell_guid": "8e6e2701-937c-4f28-85c8-49e365573968"
            },
            "outputs": [],
            "execution_count": null
        },
        {
            "cell_type": "markdown",
            "source": [
                "## **4. Restart Container**\r\n",
                "\r\n",
                "To restart Business Central Docker container you can use below function. It is possible also to restart the container with standard Docker command however it is recomended to use one below."
            ],
            "metadata": {
                "azdata_cell_guid": "08a904df-04fc-40e2-b8ff-988ae33ed79d"
            }
        },
        {
            "cell_type": "code",
            "source": [
                "Restart-BCContainer $containerName"
            ],
            "metadata": {
                "azdata_cell_guid": "cb1fa428-81e6-45fd-9f6a-a59ce6993bb3",
                "tags": [
                    "hide_input"
                ]
            },
            "outputs": [],
            "execution_count": null
        },
        {
            "cell_type": "markdown",
            "source": [
                "## **5. Remove Container**\r\n",
                "\r\n",
                "To remove Business Central Docker container you can use below function. It is possible also to remove the container with standard Docker command however it is recomended to use one below. \r\n",
                "\r\n",
                "**Note** to remove container you do not need stop Docker container"
            ],
            "metadata": {
                "azdata_cell_guid": "3cbbe88e-1e18-4788-964d-f4460e543250"
            }
        },
        {
            "cell_type": "code",
            "source": [
                "Remove-BcContainer $containerName"
            ],
            "metadata": {
                "azdata_cell_guid": "450d32ca-0d13-48f4-89a0-3d69b7ae53c6"
            },
            "outputs": [],
            "execution_count": null
        },
        {
            "cell_type": "markdown",
            "source": [
                "## **6. Start Container**\r\n",
                "In some cases it is needed to start manually the container. \r\n",
                ""
            ],
            "metadata": {
                "azdata_cell_guid": "aa614e9c-d605-42d6-baa2-741426c69bce"
            }
        },
        {
            "cell_type": "code",
            "source": [
                "Start-BCContainer $containerName"
            ],
            "metadata": {
                "azdata_cell_guid": "da2022a7-f30c-4c4f-9b3d-7810468a68ee"
            },
            "outputs": [],
            "execution_count": null
        },
        {
            "cell_type": "markdown",
            "source": [
                "## **7. Stop Container**\r\n",
                "In some cases it is needed to stop manually the container. \r\n",
                ""
            ],
            "metadata": {
                "azdata_cell_guid": "4fcb43a1-7b52-4fab-9c60-91fff1445585"
            }
        },
        {
            "cell_type": "code",
            "source": [
                "Stop-BCContainer $containerName"
            ],
            "metadata": {
                "azdata_cell_guid": "1505af17-7be4-4a58-8268-962bed62a8fd"
            },
            "outputs": [],
            "execution_count": null
        },
        {
            "cell_type": "markdown",
            "source": [
                "## **8. Backup container Database**\r\n",
                "In some cases it is needed to do the backup of the database used in Business Central Docker Container. Below code will backup the database and store it in the folder ***C:\\ProgramData\\BcContainerHelper\\Extensions\\X\\*** where ***X*** is the container name.\r\n",
                ""
            ],
            "metadata": {
                "azdata_cell_guid": "a5380ffc-e039-4f42-8d2a-02775c6afbb5"
            }
        },
        {
            "cell_type": "code",
            "source": [
                "Backup-BcContainerDatabases -containerName $containerName"
            ],
            "metadata": {
                "azdata_cell_guid": "db95538a-f215-46f6-81b3-5666b4269671"
            },
            "outputs": [],
            "execution_count": null
        },
        {
            "cell_type": "markdown",
            "source": [
                "## **9. Import new license**\r\n",
                "\r\n",
                "When the license expired it is possible to import new license to existing Business Central container.\r\n",
                "\r\n",
                "**Note** the code below automatically will restart the container."
            ],
            "metadata": {
                "azdata_cell_guid": "f474b79f-122d-443b-af33-3ec4ae8463e1"
            }
        },
        {
            "cell_type": "code",
            "source": [
                "Import-BcContainerLicense -containerName $containerName -licenseFile $licenseFile -restart"
            ],
            "metadata": {
                "azdata_cell_guid": "0706429f-5bd0-4f72-b235-e11b5e406305"
            },
            "outputs": [],
            "execution_count": null
        },
        {
            "cell_type": "markdown",
            "source": [
                "## **10. Add new Business Central user**\r\n",
                "\r\n",
                "In some cases it is needed to create a new user in the Business Central Docker Container. The user created below will be assign with **SUPER** permission set.\r\n",
                "\r\n",
                "**Note** When creating the user the system will ask you for the **user and password**. Those credencial does not need to be the same as Windows credencial. **They are used later to login to Business Central** so remember them."
            ],
            "metadata": {
                "azdata_cell_guid": "71e1bf6c-7d26-4134-808c-c096047999e6"
            }
        },
        {
            "cell_type": "code",
            "source": [
                "  $credential = get-credential -UserName $env:USERNAME -Message \"Please enter your credentials.\"\r\n",
                "  New-BcContainerBcUser -containerName $containerName -credential $credential -PermissionSetId SUPER"
            ],
            "metadata": {
                "azdata_cell_guid": "f48bc655-9fc7-44b9-8a10-3d86440ea1b8",
                "tags": []
            },
            "outputs": [],
            "execution_count": null
        }
    ]
}